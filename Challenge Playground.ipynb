{
 "cells": [
  {
   "cell_type": "code",
   "execution_count": 2,
   "metadata": {},
   "outputs": [],
   "source": [
    "import numpy as np\n",
    "\n",
    "from qiskit import Aer, QuantumCircuit, execute\n",
    "from qiskit.visualization import plot_histogram, plot_bloch_vector\n",
    "from IPython.display import display, Math, Latex"
   ]
  },
  {
   "cell_type": "code",
   "execution_count": 1,
   "metadata": {},
   "outputs": [],
   "source": [
    "message = \"10110100100110101001101010010100110010110101101011001101011010011011011001101100110101011010010110100110101011010011011001011001101011011001010101011001101101011001010110010110011010011001010110011011\""
   ]
  },
  {
   "cell_type": "code",
   "execution_count": 2,
   "metadata": {},
   "outputs": [
    {
     "data": {
      "text/plain": [
       "False"
      ]
     },
     "execution_count": 2,
     "metadata": {},
     "output_type": "execute_result"
    }
   ],
   "source": [
    "\"000\" in message"
   ]
  },
  {
   "cell_type": "code",
   "execution_count": 3,
   "metadata": {},
   "outputs": [
    {
     "data": {
      "text/plain": [
       "True"
      ]
     },
     "execution_count": 3,
     "metadata": {},
     "output_type": "execute_result"
    }
   ],
   "source": [
    "\"00\" in message"
   ]
  },
  {
   "cell_type": "code",
   "execution_count": 4,
   "metadata": {},
   "outputs": [
    {
     "name": "stdout",
     "output_type": "stream",
     "text": [
      "10-0100100-010100-01010010100-0010-010-010-00-010-0100-0-0-00-0-00-01010-010010-0100-01010-0100-0-0010-00-010-0-0010101010-00-0-010-001010-0010-00-0100-001010-00-0-\n"
     ]
    }
   ],
   "source": [
    "fMessage = message.replace(\"11\", \"-\")\n",
    "print(fMessage)"
   ]
  },
  {
   "cell_type": "code",
   "execution_count": 5,
   "metadata": {},
   "outputs": [
    {
     "data": {
      "text/plain": [
       "True"
      ]
     },
     "execution_count": 5,
     "metadata": {},
     "output_type": "execute_result"
    }
   ],
   "source": [
    "len(fMessage)%2 == 0"
   ]
  },
  {
   "cell_type": "code",
   "execution_count": 9,
   "metadata": {},
   "outputs": [],
   "source": [
    "true_len = len(\"reddit.com/r/may4quantum\")"
   ]
  },
  {
   "cell_type": "code",
   "execution_count": 10,
   "metadata": {},
   "outputs": [
    {
     "name": "stdout",
     "output_type": "stream",
     "text": [
      "['10-01', '1', '-0101', '-0101', '101', '-', '10-010-010-', '-010-01', '-0-0-', '-0-', '-01010-01', '10-01', '-01010-01', '-0-', '10-', '-010-0-', '10101010-', '-0-010-', '1010-', '10-', '-01', '-', '1010-', '-0-']\n"
     ]
    }
   ],
   "source": [
    "sMessage = fMessage.split(\"00\")\n",
    "print(sMessage)"
   ]
  },
  {
   "cell_type": "code",
   "execution_count": 17,
   "metadata": {},
   "outputs": [
    {
     "name": "stdout",
     "output_type": "stream",
     "text": [
      ".-.\n"
     ]
    }
   ],
   "source": [
    "def bit_to_morse(msg):\n",
    "    \n",
    "    bit_d = {\"1\":\".\", \"0\":\"\", \"-\":\"-\"}   \n",
    "    \n",
    "    morseMsg = \"\"\n",
    "    for i in msg:\n",
    "        morseMsg += bit_d[i]\n",
    "    \n",
    "    return morseMsg\n",
    "\n",
    "print(bit_to_morse('10-01'))"
   ]
  },
  {
   "cell_type": "code",
   "execution_count": 19,
   "metadata": {},
   "outputs": [
    {
     "name": "stdout",
     "output_type": "stream",
     "text": [
      "['.-.', '.', '-..', '-..', '..', '-', '.-.-.-', '-.-.', '---', '--', '-..-.', '.-.', '-..-.', '--', '.-', '-.--', '....-', '--.-', '..-', '.-', '-.', '-', '..-', '--']\n"
     ]
    },
    {
     "data": {
      "text/plain": [
       "True"
      ]
     },
     "execution_count": 19,
     "metadata": {},
     "output_type": "execute_result"
    }
   ],
   "source": [
    "morse = []\n",
    "for letter in sMessage:\n",
    "    morse.append(bit_to_morse(letter))\n",
    "print(morse)\n",
    "len(morse) == true_len"
   ]
  },
  {
   "cell_type": "code",
   "execution_count": 20,
   "metadata": {},
   "outputs": [
    {
     "name": "stdout",
     "output_type": "stream",
     "text": [
      "{'.-': 'a', '-...': 'b', '-.-.': 'c', '-..': 'd', '.': 'e', '..-.': 'f', '--.': 'g', '....': 'h', '..': 'i', '.---': 'j', '-.-': 'k', '.-..': 'l', '--': 'm', '-.': 'n', '---': 'o', '.--.': 'p', '--.-': 'q', '.-.': 'r', '...': 's', '-': 't', '..-': 'u', '...-': 'v', '.--': 'w', '-..-': 'x', '-.--': 'y', '--..': 'z', '.----': '1', '..---': '2', '...--': '3', '....-': '4', '.....': '5', '-....': '6', '--...': '7', '---..': '8', '----.': '9', '-----': '0', '--..--': ', ', '.-.-.-': '.', '..--..': '?', '-..-.': '/', '-....-': '-', '-.--.': '(', '-.--.-': ')'}\n"
     ]
    }
   ],
   "source": [
    "MORSE_CODE_DICT = { 'a':'.-', 'b':'-...', \n",
    "                    'c':'-.-.', 'd':'-..', 'e':'.', \n",
    "                    'f':'..-.', 'g':'--.', 'h':'....', \n",
    "                    'i':'..', 'j':'.---', 'k':'-.-', \n",
    "                    'l':'.-..', 'm':'--', 'n':'-.', \n",
    "                    'o':'---', 'p':'.--.', 'q':'--.-', \n",
    "                    'r':'.-.', 's':'...', 't':'-', \n",
    "                    'u':'..-', 'v':'...-', 'w':'.--', \n",
    "                    'x':'-..-', 'y':'-.--', 'z':'--..', \n",
    "                    '1':'.----', '2':'..---', '3':'...--', \n",
    "                    '4':'....-', '5':'.....', '6':'-....', \n",
    "                    '7':'--...', '8':'---..', '9':'----.', \n",
    "                    '0':'-----', ', ':'--..--', '.':'.-.-.-', \n",
    "                    '?':'..--..', '/':'-..-.', '-':'-....-', \n",
    "                    '(':'-.--.', ')':'-.--.-'}\n",
    "\n",
    "\n",
    "inverted_morse_code_dict = {}\n",
    "for k, v in MORSE_CODE_DICT.items():\n",
    "    inverted_morse_code_dict[v] = k\n",
    "print(inverted_morse_code_dict)"
   ]
  },
  {
   "cell_type": "code",
   "execution_count": 23,
   "metadata": {},
   "outputs": [
    {
     "name": "stdout",
     "output_type": "stream",
     "text": [
      "reddit.com/r/may4quantum\n"
     ]
    }
   ],
   "source": [
    "solution = \"\"\n",
    "for m in morse:\n",
    "    answer += inverted_morse_code_dict[m]\n",
    "print(solution)"
   ]
  },
  {
   "cell_type": "code",
   "execution_count": null,
   "metadata": {},
   "outputs": [],
   "source": []
  },
  {
   "cell_type": "code",
   "execution_count": null,
   "metadata": {},
   "outputs": [],
   "source": []
  },
  {
   "cell_type": "code",
   "execution_count": null,
   "metadata": {},
   "outputs": [],
   "source": []
  },
  {
   "cell_type": "code",
   "execution_count": null,
   "metadata": {},
   "outputs": [],
   "source": []
  },
  {
   "cell_type": "code",
   "execution_count": null,
   "metadata": {},
   "outputs": [],
   "source": []
  },
  {
   "cell_type": "code",
   "execution_count": null,
   "metadata": {},
   "outputs": [],
   "source": []
  },
  {
   "cell_type": "code",
   "execution_count": null,
   "metadata": {},
   "outputs": [],
   "source": []
  },
  {
   "cell_type": "code",
   "execution_count": 4,
   "metadata": {},
   "outputs": [
    {
     "data": {
      "text/plain": [
       "<qiskit.circuit.instructionset.InstructionSet at 0x11c0cf940>"
      ]
     },
     "execution_count": 4,
     "metadata": {},
     "output_type": "execute_result"
    }
   ],
   "source": [
    "qc.x(0)    # bit flip\n",
    "qc.y(0)    # bit and phase flip\n",
    "qc.z(0)    # phase flip\n",
    "qc.h(0)    # superpostion\n",
    "qc.s(0)    # quantum phase rotation by pi/2 (90 degrees)\n",
    "qc.sdg(0)  # quantum phase rotation by -pi/2 (90 degrees)"
   ]
  },
  {
   "cell_type": "markdown",
   "metadata": {},
   "source": [
    "State: |Ψ⟩=(0.707+0𝑖)|000⟩+(0.707+0𝑖)|111⟩"
   ]
  },
  {
   "cell_type": "code",
   "execution_count": null,
   "metadata": {},
   "outputs": [],
   "source": [
    "def run_circuit(qc):\n",
    "    backend = Aer.get_backend('qasm_simulator') # we choose the simulator as our backend\n",
    "    result = execute(qc, backend, shots = 1000).result() # we run the simulation\n",
    "    counts = result.get_counts() # we get the counts\n",
    "    return counts"
   ]
  }
 ],
 "metadata": {
  "kernelspec": {
   "display_name": "ibmquantum",
   "language": "python",
   "name": "ibmquantum"
  },
  "language_info": {
   "codemirror_mode": {
    "name": "ipython",
    "version": 3
   },
   "file_extension": ".py",
   "mimetype": "text/x-python",
   "name": "python",
   "nbconvert_exporter": "python",
   "pygments_lexer": "ipython3",
   "version": "3.6.4"
  }
 },
 "nbformat": 4,
 "nbformat_minor": 2
}
