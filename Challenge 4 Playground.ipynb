{
 "cells": [
  {
   "cell_type": "code",
   "execution_count": null,
   "metadata": {},
   "outputs": [],
   "source": []
  },
  {
   "cell_type": "markdown",
   "metadata": {},
   "source": [
    "# Notes # \n",
    "\n",
    "- Following reddit comment\n",
    "    - 104, 52, 100, 97, 109, 65, 114, 100 is `h, 4, d, a, m, A, r, d` in ASCII\n",
    "    - Conclude, probably want to use **Hadamard Gate(s)** on some of the qubits\n",
    "- Useful docs from Qiskit\n",
    "    - [Elementary Operations](https://qiskit-staging.mybluemix.net/documentation/terra/summary_of_quantum_operations.html)\n",
    "- [The Reddit Conversation](https://www.reddit.com/r/may4quantum/comments/gd5b8p/congratulations/)\n",
    "- Important conversion: H=X(pi)Y(pi/2)\n",
    "- [QC StackExchange (general decomp.)](https://quantumcomputing.stackexchange.com/questions/8538/how-to-decompose-a-unitary-transform-into-two-level-unitary-matrices)\n",
    "    - multiply *U* by *stuff* until you get the identity\n",
    "- [StackOverflow (specifically Krauss-Cirac decomposition)](https://stackoverflow.com/questions/58198077/is-there-any-systematic-way-to-decompose-a-two-level-unitary-matrix-into-single)\n",
    "- **NB** Might want to look up LU Decomp. packages in Python\n",
    "- [Transpile Tutorial](https://github.com/Qiskit/qiskit-tutorials/blob/master/tutorials/terra/advanced/4_transpiler_passes_and_passmanager.ipynb)"
   ]
  },
  {
   "cell_type": "markdown",
   "metadata": {},
   "source": [
    "# Goal of challenge: #\n",
    "## Guess the circuit that created U ##"
   ]
  },
  {
   "cell_type": "code",
   "execution_count": 1,
   "metadata": {},
   "outputs": [],
   "source": [
    "#standard imports\n",
    "from qiskit import QuantumCircuit, BasicAer, execute"
   ]
  },
  {
   "cell_type": "code",
   "execution_count": 2,
   "metadata": {},
   "outputs": [],
   "source": [
    "# Useful additional packages\n",
    "import matplotlib.pyplot as plt\n",
    "%matplotlib inline\n",
    "import numpy as np\n",
    "from math import pi"
   ]
  },
  {
   "cell_type": "code",
   "execution_count": 3,
   "metadata": {},
   "outputs": [],
   "source": [
    "#set up from the problem\n",
    "qc = QuantumCircuit(4)"
   ]
  },
  {
   "cell_type": "code",
   "execution_count": 4,
   "metadata": {},
   "outputs": [],
   "source": [
    "#set up a backend\n",
    "backend = BasicAer.get_backend(\"unitary_simulator\")"
   ]
  },
  {
   "cell_type": "code",
   "execution_count": null,
   "metadata": {},
   "outputs": [],
   "source": []
  },
  {
   "cell_type": "markdown",
   "metadata": {},
   "source": [
    "# What is your plan? #\n",
    "\n",
    "- know that we are trying to guess the circuit that produced unitary\n",
    "- know from QM-SE problem that essentially doing LU decomp on unitary\n",
    "- idea is use a std. alg. to do the LU decomp for me\n",
    "- then inspect L and U\n",
    "- finally match L and U to the gates in `elementary operations`\n",
    "    - CAN ONLY USE U3 and CNOT\n",
    "    - need to figure out a way of picking out $\\theta$, $\\phi$, $\\lambda$"
   ]
  },
  {
   "cell_type": "code",
   "execution_count": 7,
   "metadata": {},
   "outputs": [],
   "source": [
    "import numpy as np\n",
    "import quantum_decomp"
   ]
  },
  {
   "cell_type": "code",
   "execution_count": 8,
   "metadata": {},
   "outputs": [],
   "source": [
    "U = np.matrix([[-0.21338835+0.33838835j, -0.14016504-0.08838835j,\n",
    "         0.21338835-0.08838835j,  0.03661165+0.08838835j,\n",
    "         0.08838835-0.03661165j, -0.08838835-0.21338835j,\n",
    "        -0.08838835+0.14016504j,  0.33838835+0.21338835j,\n",
    "         0.21338835-0.08838835j,  0.03661165+0.08838835j,\n",
    "         0.39016504+0.08838835j, -0.03661165+0.16161165j,\n",
    "         0.16161165+0.03661165j,  0.08838835-0.39016504j,\n",
    "         0.08838835-0.03661165j, -0.08838835-0.21338835j],\n",
    "       [-0.14016504-0.08838835j, -0.21338835+0.33838835j,\n",
    "         0.03661165+0.08838835j,  0.21338835-0.08838835j,\n",
    "        -0.08838835-0.21338835j,  0.08838835-0.03661165j,\n",
    "         0.33838835+0.21338835j, -0.08838835+0.14016504j,\n",
    "         0.03661165+0.08838835j,  0.21338835-0.08838835j,\n",
    "        -0.03661165+0.16161165j,  0.39016504+0.08838835j,\n",
    "         0.08838835-0.39016504j,  0.16161165+0.03661165j,\n",
    "        -0.08838835-0.21338835j,  0.08838835-0.03661165j],\n",
    "       [ 0.21338835-0.08838835j,  0.03661165+0.08838835j,\n",
    "        -0.21338835+0.33838835j, -0.14016504-0.08838835j,\n",
    "        -0.08838835+0.14016504j,  0.33838835+0.21338835j,\n",
    "         0.08838835-0.03661165j, -0.08838835-0.21338835j,\n",
    "         0.39016504+0.08838835j, -0.03661165+0.16161165j,\n",
    "         0.21338835-0.08838835j,  0.03661165+0.08838835j,\n",
    "         0.08838835-0.03661165j, -0.08838835-0.21338835j,\n",
    "         0.16161165+0.03661165j,  0.08838835-0.39016504j],\n",
    "       [ 0.03661165+0.08838835j,  0.21338835-0.08838835j,\n",
    "        -0.14016504-0.08838835j, -0.21338835+0.33838835j,\n",
    "         0.33838835+0.21338835j, -0.08838835+0.14016504j,\n",
    "        -0.08838835-0.21338835j,  0.08838835-0.03661165j,\n",
    "        -0.03661165+0.16161165j,  0.39016504+0.08838835j,\n",
    "         0.03661165+0.08838835j,  0.21338835-0.08838835j,\n",
    "        -0.08838835-0.21338835j,  0.08838835-0.03661165j,\n",
    "         0.08838835-0.39016504j,  0.16161165+0.03661165j],\n",
    "       [ 0.08838835-0.03661165j, -0.08838835-0.21338835j,\n",
    "        -0.08838835+0.14016504j,  0.33838835+0.21338835j,\n",
    "        -0.21338835+0.33838835j, -0.14016504-0.08838835j,\n",
    "         0.21338835-0.08838835j,  0.03661165+0.08838835j,\n",
    "         0.16161165+0.03661165j,  0.08838835-0.39016504j,\n",
    "         0.08838835-0.03661165j, -0.08838835-0.21338835j,\n",
    "         0.21338835-0.08838835j,  0.03661165+0.08838835j,\n",
    "         0.39016504+0.08838835j, -0.03661165+0.16161165j],\n",
    "       [-0.08838835-0.21338835j,  0.08838835-0.03661165j,\n",
    "         0.33838835+0.21338835j, -0.08838835+0.14016504j,\n",
    "        -0.14016504-0.08838835j, -0.21338835+0.33838835j,\n",
    "         0.03661165+0.08838835j,  0.21338835-0.08838835j,\n",
    "         0.08838835-0.39016504j,  0.16161165+0.03661165j,\n",
    "        -0.08838835-0.21338835j,  0.08838835-0.03661165j,\n",
    "         0.03661165+0.08838835j,  0.21338835-0.08838835j,\n",
    "        -0.03661165+0.16161165j,  0.39016504+0.08838835j],\n",
    "       [-0.08838835+0.14016504j,  0.33838835+0.21338835j,\n",
    "         0.08838835-0.03661165j, -0.08838835-0.21338835j,\n",
    "         0.21338835-0.08838835j,  0.03661165+0.08838835j,\n",
    "        -0.21338835+0.33838835j, -0.14016504-0.08838835j,\n",
    "         0.08838835-0.03661165j, -0.08838835-0.21338835j,\n",
    "         0.16161165+0.03661165j,  0.08838835-0.39016504j,\n",
    "         0.39016504+0.08838835j, -0.03661165+0.16161165j,\n",
    "         0.21338835-0.08838835j,  0.03661165+0.08838835j],\n",
    "       [ 0.33838835+0.21338835j, -0.08838835+0.14016504j,\n",
    "        -0.08838835-0.21338835j,  0.08838835-0.03661165j,\n",
    "         0.03661165+0.08838835j,  0.21338835-0.08838835j,\n",
    "        -0.14016504-0.08838835j, -0.21338835+0.33838835j,\n",
    "        -0.08838835-0.21338835j,  0.08838835-0.03661165j,\n",
    "         0.08838835-0.39016504j,  0.16161165+0.03661165j,\n",
    "        -0.03661165+0.16161165j,  0.39016504+0.08838835j,\n",
    "         0.03661165+0.08838835j,  0.21338835-0.08838835j],\n",
    "       [ 0.21338835-0.08838835j,  0.03661165+0.08838835j,\n",
    "         0.39016504+0.08838835j, -0.03661165+0.16161165j,\n",
    "         0.16161165+0.03661165j,  0.08838835-0.39016504j,\n",
    "         0.08838835-0.03661165j, -0.08838835-0.21338835j,\n",
    "        -0.21338835+0.33838835j, -0.14016504-0.08838835j,\n",
    "         0.21338835-0.08838835j,  0.03661165+0.08838835j,\n",
    "         0.08838835-0.03661165j, -0.08838835-0.21338835j,\n",
    "        -0.08838835+0.14016504j,  0.33838835+0.21338835j],\n",
    "       [ 0.03661165+0.08838835j,  0.21338835-0.08838835j,\n",
    "        -0.03661165+0.16161165j,  0.39016504+0.08838835j,\n",
    "         0.08838835-0.39016504j,  0.16161165+0.03661165j,\n",
    "        -0.08838835-0.21338835j,  0.08838835-0.03661165j,\n",
    "        -0.14016504-0.08838835j, -0.21338835+0.33838835j,\n",
    "         0.03661165+0.08838835j,  0.21338835-0.08838835j,\n",
    "        -0.08838835-0.21338835j,  0.08838835-0.03661165j,\n",
    "         0.33838835+0.21338835j, -0.08838835+0.14016504j],\n",
    "       [ 0.39016504+0.08838835j, -0.03661165+0.16161165j,\n",
    "         0.21338835-0.08838835j,  0.03661165+0.08838835j,\n",
    "         0.08838835-0.03661165j, -0.08838835-0.21338835j,\n",
    "         0.16161165+0.03661165j,  0.08838835-0.39016504j,\n",
    "         0.21338835-0.08838835j,  0.03661165+0.08838835j,\n",
    "        -0.21338835+0.33838835j, -0.14016504-0.08838835j,\n",
    "        -0.08838835+0.14016504j,  0.33838835+0.21338835j,\n",
    "         0.08838835-0.03661165j, -0.08838835-0.21338835j],\n",
    "       [-0.03661165+0.16161165j,  0.39016504+0.08838835j,\n",
    "         0.03661165+0.08838835j,  0.21338835-0.08838835j,\n",
    "        -0.08838835-0.21338835j,  0.08838835-0.03661165j,\n",
    "         0.08838835-0.39016504j,  0.16161165+0.03661165j,\n",
    "         0.03661165+0.08838835j,  0.21338835-0.08838835j,\n",
    "        -0.14016504-0.08838835j, -0.21338835+0.33838835j,\n",
    "         0.33838835+0.21338835j, -0.08838835+0.14016504j,\n",
    "        -0.08838835-0.21338835j,  0.08838835-0.03661165j],\n",
    "       [ 0.16161165+0.03661165j,  0.08838835-0.39016504j,\n",
    "         0.08838835-0.03661165j, -0.08838835-0.21338835j,\n",
    "         0.21338835-0.08838835j,  0.03661165+0.08838835j,\n",
    "         0.39016504+0.08838835j, -0.03661165+0.16161165j,\n",
    "         0.08838835-0.03661165j, -0.08838835-0.21338835j,\n",
    "        -0.08838835+0.14016504j,  0.33838835+0.21338835j,\n",
    "        -0.21338835+0.33838835j, -0.14016504-0.08838835j,\n",
    "         0.21338835-0.08838835j,  0.03661165+0.08838835j],\n",
    "       [ 0.08838835-0.39016504j,  0.16161165+0.03661165j,\n",
    "        -0.08838835-0.21338835j,  0.08838835-0.03661165j,\n",
    "         0.03661165+0.08838835j,  0.21338835-0.08838835j,\n",
    "        -0.03661165+0.16161165j,  0.39016504+0.08838835j,\n",
    "        -0.08838835-0.21338835j,  0.08838835-0.03661165j,\n",
    "         0.33838835+0.21338835j, -0.08838835+0.14016504j,\n",
    "        -0.14016504-0.08838835j, -0.21338835+0.33838835j,\n",
    "         0.03661165+0.08838835j,  0.21338835-0.08838835j],\n",
    "       [ 0.08838835-0.03661165j, -0.08838835-0.21338835j,\n",
    "         0.16161165+0.03661165j,  0.08838835-0.39016504j,\n",
    "         0.39016504+0.08838835j, -0.03661165+0.16161165j,\n",
    "         0.21338835-0.08838835j,  0.03661165+0.08838835j,\n",
    "        -0.08838835+0.14016504j,  0.33838835+0.21338835j,\n",
    "         0.08838835-0.03661165j, -0.08838835-0.21338835j,\n",
    "         0.21338835-0.08838835j,  0.03661165+0.08838835j,\n",
    "        -0.21338835+0.33838835j, -0.14016504-0.08838835j],\n",
    "       [-0.08838835-0.21338835j,  0.08838835-0.03661165j,\n",
    "         0.08838835-0.39016504j,  0.16161165+0.03661165j,\n",
    "        -0.03661165+0.16161165j,  0.39016504+0.08838835j,\n",
    "         0.03661165+0.08838835j,  0.21338835-0.08838835j,\n",
    "         0.33838835+0.21338835j, -0.08838835+0.14016504j,\n",
    "        -0.08838835-0.21338835j,  0.08838835-0.03661165j,\n",
    "         0.03661165+0.08838835j,  0.21338835-0.08838835j,\n",
    "        -0.14016504-0.08838835j, -0.21338835+0.33838835j]])"
   ]
  },
  {
   "cell_type": "code",
   "execution_count": 9,
   "metadata": {},
   "outputs": [
    {
     "ename": "AttributeError",
     "evalue": "module 'quantum_decomp' has no attribute 'matrix_to_qsharp'",
     "output_type": "error",
     "traceback": [
      "\u001b[0;31m---------------------------------------------------------------------------\u001b[0m",
      "\u001b[0;31mAttributeError\u001b[0m                            Traceback (most recent call last)",
      "\u001b[0;32m<ipython-input-9-1bc79c1681d8>\u001b[0m in \u001b[0;36m<module>\u001b[0;34m\u001b[0m\n\u001b[0;32m----> 1\u001b[0;31m \u001b[0mprint\u001b[0m\u001b[0;34m(\u001b[0m\u001b[0mquantum_decomp\u001b[0m\u001b[0;34m.\u001b[0m\u001b[0mmatrix_to_qsharp\u001b[0m\u001b[0;34m(\u001b[0m\u001b[0mU\u001b[0m\u001b[0;34m)\u001b[0m\u001b[0;34m)\u001b[0m\u001b[0;34m\u001b[0m\u001b[0m\n\u001b[0m",
      "\u001b[0;31mAttributeError\u001b[0m: module 'quantum_decomp' has no attribute 'matrix_to_qsharp'"
     ]
    }
   ],
   "source": [
    "print(quantum_decomp.matrix_to_qsharp(U))"
   ]
  },
  {
   "cell_type": "markdown",
   "metadata": {},
   "source": [
    "# NEW PLAN #\n",
    "\n",
    "- Try controlled H to sqish down the number of total gates\n",
    "    - I'm thinking something like X RY and CNOT\n",
    "- Test using CHad etc. to see if you can approx the unitary\n",
    "- If above approximates, then translate into U3 and CNOT\n",
    "- last hour #helpmehadamard"
   ]
  },
  {
   "cell_type": "code",
   "execution_count": null,
   "metadata": {},
   "outputs": [],
   "source": []
  },
  {
   "cell_type": "code",
   "execution_count": null,
   "metadata": {},
   "outputs": [],
   "source": []
  },
  {
   "cell_type": "code",
   "execution_count": null,
   "metadata": {},
   "outputs": [],
   "source": []
  }
 ],
 "metadata": {
  "kernelspec": {
   "display_name": "ibmquantum",
   "language": "python",
   "name": "ibmquantum"
  },
  "language_info": {
   "codemirror_mode": {
    "name": "ipython",
    "version": 3
   },
   "file_extension": ".py",
   "mimetype": "text/x-python",
   "name": "python",
   "nbconvert_exporter": "python",
   "pygments_lexer": "ipython3",
   "version": "3.6.4"
  }
 },
 "nbformat": 4,
 "nbformat_minor": 2
}
